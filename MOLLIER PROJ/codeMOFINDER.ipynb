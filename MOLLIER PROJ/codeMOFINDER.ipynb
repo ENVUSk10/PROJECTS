{
 "cells": [
  {
   "cell_type": "code",
   "execution_count": 1,
   "metadata": {
    "id": "kXy1FDRXAtyt"
   },
   "outputs": [],
   "source": [
    "# Importing the important Libraries.\n",
    "import numpy as np\n",
    "import pandas as pd\n",
    "import matplotlib.pyplot as plt\n",
    "%matplotlib inline"
   ]
  },
  {
   "cell_type": "code",
   "execution_count": 2,
   "metadata": {
    "id": "lE-6_JWkAtyw",
    "outputId": "0c28bbae-2609-4081-fd76-633e3c0fb827"
   },
   "outputs": [
    {
     "data": {
      "text/html": [
       "<div>\n",
       "<style scoped>\n",
       "    .dataframe tbody tr th:only-of-type {\n",
       "        vertical-align: middle;\n",
       "    }\n",
       "\n",
       "    .dataframe tbody tr th {\n",
       "        vertical-align: top;\n",
       "    }\n",
       "\n",
       "    .dataframe thead th {\n",
       "        text-align: right;\n",
       "    }\n",
       "</style>\n",
       "<table border=\"1\" class=\"dataframe\">\n",
       "  <thead>\n",
       "    <tr style=\"text-align: right;\">\n",
       "      <th></th>\n",
       "      <th>Pressure (Bar)</th>\n",
       "      <th>Tsat</th>\n",
       "      <th>Vf</th>\n",
       "      <th>Vg</th>\n",
       "      <th>Uf</th>\n",
       "      <th>Ufg</th>\n",
       "      <th>Ug</th>\n",
       "      <th>Hf</th>\n",
       "      <th>Hfg</th>\n",
       "      <th>Hg</th>\n",
       "      <th>Sf</th>\n",
       "      <th>Sfg</th>\n",
       "      <th>Sg</th>\n",
       "    </tr>\n",
       "  </thead>\n",
       "  <tbody>\n",
       "    <tr>\n",
       "      <th>0</th>\n",
       "      <td>0.006117</td>\n",
       "      <td>0.01</td>\n",
       "      <td>0.001000</td>\n",
       "      <td>206.000</td>\n",
       "      <td>0.000</td>\n",
       "      <td>2374.9</td>\n",
       "      <td>2374.9</td>\n",
       "      <td>0.001</td>\n",
       "      <td>2500.9</td>\n",
       "      <td>2500.9</td>\n",
       "      <td>0.0000</td>\n",
       "      <td>9.1556</td>\n",
       "      <td>9.1556</td>\n",
       "    </tr>\n",
       "    <tr>\n",
       "      <th>1</th>\n",
       "      <td>0.008725</td>\n",
       "      <td>5.00</td>\n",
       "      <td>0.001000</td>\n",
       "      <td>147.030</td>\n",
       "      <td>21.019</td>\n",
       "      <td>2360.8</td>\n",
       "      <td>2381.8</td>\n",
       "      <td>21.020</td>\n",
       "      <td>2489.1</td>\n",
       "      <td>2510.1</td>\n",
       "      <td>0.0763</td>\n",
       "      <td>8.9487</td>\n",
       "      <td>9.0249</td>\n",
       "    </tr>\n",
       "    <tr>\n",
       "      <th>2</th>\n",
       "      <td>0.010000</td>\n",
       "      <td>6.97</td>\n",
       "      <td>0.001000</td>\n",
       "      <td>129.190</td>\n",
       "      <td>29.302</td>\n",
       "      <td>2355.2</td>\n",
       "      <td>2384.5</td>\n",
       "      <td>29.303</td>\n",
       "      <td>2484.4</td>\n",
       "      <td>2513.7</td>\n",
       "      <td>0.1059</td>\n",
       "      <td>8.8690</td>\n",
       "      <td>8.9749</td>\n",
       "    </tr>\n",
       "    <tr>\n",
       "      <th>3</th>\n",
       "      <td>0.012281</td>\n",
       "      <td>10.00</td>\n",
       "      <td>0.001000</td>\n",
       "      <td>106.320</td>\n",
       "      <td>42.020</td>\n",
       "      <td>2346.6</td>\n",
       "      <td>2388.7</td>\n",
       "      <td>42.022</td>\n",
       "      <td>2477.2</td>\n",
       "      <td>2519.2</td>\n",
       "      <td>0.1511</td>\n",
       "      <td>8.7488</td>\n",
       "      <td>8.8999</td>\n",
       "    </tr>\n",
       "    <tr>\n",
       "      <th>4</th>\n",
       "      <td>0.015000</td>\n",
       "      <td>13.02</td>\n",
       "      <td>0.001001</td>\n",
       "      <td>87.964</td>\n",
       "      <td>54.686</td>\n",
       "      <td>2338.1</td>\n",
       "      <td>2392.8</td>\n",
       "      <td>54.688</td>\n",
       "      <td>2470.1</td>\n",
       "      <td>2524.7</td>\n",
       "      <td>0.1956</td>\n",
       "      <td>8.6314</td>\n",
       "      <td>8.8270</td>\n",
       "    </tr>\n",
       "  </tbody>\n",
       "</table>\n",
       "</div>"
      ],
      "text/plain": [
       "   Pressure (Bar)   Tsat        Vf       Vg      Uf     Ufg      Ug      Hf  \\\n",
       "0        0.006117   0.01  0.001000  206.000   0.000  2374.9  2374.9   0.001   \n",
       "1        0.008725   5.00  0.001000  147.030  21.019  2360.8  2381.8  21.020   \n",
       "2        0.010000   6.97  0.001000  129.190  29.302  2355.2  2384.5  29.303   \n",
       "3        0.012281  10.00  0.001000  106.320  42.020  2346.6  2388.7  42.022   \n",
       "4        0.015000  13.02  0.001001   87.964  54.686  2338.1  2392.8  54.688   \n",
       "\n",
       "      Hfg      Hg      Sf     Sfg      Sg  \n",
       "0  2500.9  2500.9  0.0000  9.1556  9.1556  \n",
       "1  2489.1  2510.1  0.0763  8.9487  9.0249  \n",
       "2  2484.4  2513.7  0.1059  8.8690  8.9749  \n",
       "3  2477.2  2519.2  0.1511  8.7488  8.8999  \n",
       "4  2470.1  2524.7  0.1956  8.6314  8.8270  "
      ]
     },
     "execution_count": 2,
     "metadata": {},
     "output_type": "execute_result"
    }
   ],
   "source": [
    "# Reading the Dataset.\n",
    "df1 = pd.read_excel(\"\") # Pursposefully left empty as you have to enter the the path of the your dataset\n",
    "df1.head()"
   ]
  },
  {
   "cell_type": "code",
   "execution_count": 3,
   "metadata": {
    "id": "AvjV2XCiAtyx",
    "outputId": "d817b8e4-68bb-4668-d2dd-8d0a7ac41b5f"
   },
   "outputs": [
    {
     "data": {
      "text/html": [
       "<div>\n",
       "<style scoped>\n",
       "    .dataframe tbody tr th:only-of-type {\n",
       "        vertical-align: middle;\n",
       "    }\n",
       "\n",
       "    .dataframe tbody tr th {\n",
       "        vertical-align: top;\n",
       "    }\n",
       "\n",
       "    .dataframe thead th {\n",
       "        text-align: right;\n",
       "    }\n",
       "</style>\n",
       "<table border=\"1\" class=\"dataframe\">\n",
       "  <thead>\n",
       "    <tr style=\"text-align: right;\">\n",
       "      <th></th>\n",
       "      <th>Pressure (Bar)</th>\n",
       "      <th>Tsat</th>\n",
       "      <th>Vf</th>\n",
       "      <th>Vg</th>\n",
       "      <th>Hf</th>\n",
       "      <th>Hfg</th>\n",
       "      <th>Hg</th>\n",
       "      <th>Sf</th>\n",
       "      <th>Sfg</th>\n",
       "      <th>Sg</th>\n",
       "    </tr>\n",
       "  </thead>\n",
       "  <tbody>\n",
       "    <tr>\n",
       "      <th>0</th>\n",
       "      <td>0.006117</td>\n",
       "      <td>0.01</td>\n",
       "      <td>0.001000</td>\n",
       "      <td>206.000</td>\n",
       "      <td>0.001</td>\n",
       "      <td>2500.9</td>\n",
       "      <td>2500.9</td>\n",
       "      <td>0.0000</td>\n",
       "      <td>9.1556</td>\n",
       "      <td>9.1556</td>\n",
       "    </tr>\n",
       "    <tr>\n",
       "      <th>1</th>\n",
       "      <td>0.008725</td>\n",
       "      <td>5.00</td>\n",
       "      <td>0.001000</td>\n",
       "      <td>147.030</td>\n",
       "      <td>21.020</td>\n",
       "      <td>2489.1</td>\n",
       "      <td>2510.1</td>\n",
       "      <td>0.0763</td>\n",
       "      <td>8.9487</td>\n",
       "      <td>9.0249</td>\n",
       "    </tr>\n",
       "    <tr>\n",
       "      <th>2</th>\n",
       "      <td>0.010000</td>\n",
       "      <td>6.97</td>\n",
       "      <td>0.001000</td>\n",
       "      <td>129.190</td>\n",
       "      <td>29.303</td>\n",
       "      <td>2484.4</td>\n",
       "      <td>2513.7</td>\n",
       "      <td>0.1059</td>\n",
       "      <td>8.8690</td>\n",
       "      <td>8.9749</td>\n",
       "    </tr>\n",
       "    <tr>\n",
       "      <th>3</th>\n",
       "      <td>0.012281</td>\n",
       "      <td>10.00</td>\n",
       "      <td>0.001000</td>\n",
       "      <td>106.320</td>\n",
       "      <td>42.022</td>\n",
       "      <td>2477.2</td>\n",
       "      <td>2519.2</td>\n",
       "      <td>0.1511</td>\n",
       "      <td>8.7488</td>\n",
       "      <td>8.8999</td>\n",
       "    </tr>\n",
       "    <tr>\n",
       "      <th>4</th>\n",
       "      <td>0.015000</td>\n",
       "      <td>13.02</td>\n",
       "      <td>0.001001</td>\n",
       "      <td>87.964</td>\n",
       "      <td>54.688</td>\n",
       "      <td>2470.1</td>\n",
       "      <td>2524.7</td>\n",
       "      <td>0.1956</td>\n",
       "      <td>8.6314</td>\n",
       "      <td>8.8270</td>\n",
       "    </tr>\n",
       "  </tbody>\n",
       "</table>\n",
       "</div>"
      ],
      "text/plain": [
       "   Pressure (Bar)   Tsat        Vf       Vg      Hf     Hfg      Hg      Sf  \\\n",
       "0        0.006117   0.01  0.001000  206.000   0.001  2500.9  2500.9  0.0000   \n",
       "1        0.008725   5.00  0.001000  147.030  21.020  2489.1  2510.1  0.0763   \n",
       "2        0.010000   6.97  0.001000  129.190  29.303  2484.4  2513.7  0.1059   \n",
       "3        0.012281  10.00  0.001000  106.320  42.022  2477.2  2519.2  0.1511   \n",
       "4        0.015000  13.02  0.001001   87.964  54.688  2470.1  2524.7  0.1956   \n",
       "\n",
       "      Sfg      Sg  \n",
       "0  9.1556  9.1556  \n",
       "1  8.9487  9.0249  \n",
       "2  8.8690  8.9749  \n",
       "3  8.7488  8.8999  \n",
       "4  8.6314  8.8270  "
      ]
     },
     "execution_count": 3,
     "metadata": {},
     "output_type": "execute_result"
    }
   ],
   "source": [
    "# Dropping the Internal energy as we do not generally need it but one can follow the same steps given down for Internal energy.\n",
    "df2 = df1.drop(['Uf', 'Ug', 'Ufg'], axis = 'columns')\n",
    "df2.head()"
   ]
  },
  {
   "cell_type": "code",
   "execution_count": 4,
   "metadata": {
    "id": "ZuGNzZOkAtyx",
    "outputId": "a486b9aa-23d8-42fc-8252-5e118f21f49e"
   },
   "outputs": [
    {
     "data": {
      "text/plain": [
       "Pressure (Bar)    0\n",
       "Tsat              0\n",
       "Vf                0\n",
       "Vg                0\n",
       "Hf                0\n",
       "Hfg               0\n",
       "Hg                0\n",
       "Sf                0\n",
       "Sfg               0\n",
       "Sg                0\n",
       "dtype: int64"
      ]
     },
     "execution_count": 4,
     "metadata": {},
     "output_type": "execute_result"
    }
   ],
   "source": [
    "# Checking for Null Values\n",
    "df2.isnull().sum()"
   ]
  },
  {
   "cell_type": "code",
   "execution_count": 5,
   "metadata": {
    "id": "bJp2yul0Atyx",
    "outputId": "c6792a90-88b9-41ee-d7b5-3cc1b17f5619"
   },
   "outputs": [
    {
     "data": {
      "text/plain": [
       "(149, 10)"
      ]
     },
     "execution_count": 5,
     "metadata": {},
     "output_type": "execute_result"
    }
   ],
   "source": [
    "# As there are only 149 entries to leverage the maximum out of the given dataset WE DO NOT perform a train, test split.\n",
    "df2.shape"
   ]
  },
  {
   "cell_type": "code",
   "execution_count": 6,
   "metadata": {
    "id": "ewfE2b7rAtyy"
   },
   "outputs": [],
   "source": [
    "# Here we assign the dependent variable i.e Hf, Hg, Hfg, Sf, Sg, Sfg\n",
    "# Pressure is the independant variable i.e x\n",
    "# Everything needs to be reshaped too\n",
    "y_Hf = df2['Hf'].values\n",
    "y_Hg = df2['Hg'].values\n",
    "y_Hfg = df2['Hfg'].values\n",
    "y_Hf = y_Hf.reshape(-1, 1)\n",
    "y_Hg = y_Hg.reshape(-1, 1)\n",
    "y_Hfg = y_Hfg.reshape(-1, 1)\n",
    "\n",
    "y_Sf = df2['Sf'].values\n",
    "y_Sg = df2['Sg'].values\n",
    "y_Sfg = df2['Sfg'].values\n",
    "y_Sf = y_Sf.reshape(-1, 1)\n",
    "y_Sg = y_Sg.reshape(-1, 1)\n",
    "y_Sfg = y_Sfg.reshape(-1, 1)\n",
    "\n",
    "T_sat = df2.iloc[:,1].values\n",
    "y_Hfg = y_Hfg.reshape(-1, 1)\n",
    "\n",
    "x = T_sat\n",
    "x = x.reshape(-1, 1)\n",
    "\n",
    "x_p = df2['Pressure (Bar)'].values\n",
    "x_P = x.reshape(-1, 1)\n",
    "\n",
    "\n",
    "name = []\n",
    "value = []\n",
    "acc = []"
   ]
  },
  {
   "cell_type": "code",
   "execution_count": 7,
   "metadata": {
    "id": "dVv-54U0Atyy",
    "outputId": "b3fffb42-06d9-4561-9b86-615c39771f74"
   },
   "outputs": [
    {
     "name": "stdout",
     "output_type": "stream",
     "text": [
      "Is the pressure known (y/n)n\n",
      "Is the Temperature known (y/n)y\n",
      "Enter the Temperature in °C 163.8\n"
     ]
    }
   ],
   "source": [
    "# Entert the Pressure and the temperature values\n",
    "key1 = input(\"Is the pressure known (y/n)\")\n",
    "key2 = input(\"Is the Temperature known (y/n)\")\n",
    "if key1 == \"y\":\n",
    "    pressure = float(input(\"Enter the pressure in bar \"))\n",
    "if key2 == \"y\":    \n",
    "    temperature = float(input(\"Enter the Temperature in °C \"))"
   ]
  },
  {
   "cell_type": "code",
   "execution_count": 8,
   "metadata": {
    "id": "HDiZSOd1Atyz"
   },
   "outputs": [],
   "source": [
    "# We perform Polynomial Regression\n",
    "from sklearn.linear_model import LinearRegression\n",
    "from sklearn.preprocessing import PolynomialFeatures\n",
    "\n",
    "\n",
    "# Importing r2 score method to check accuracy\n",
    "from sklearn.metrics import r2_score\n",
    "\n",
    "# List to check the accuracy score \n",
    "score = []\n",
    "score_max = -1\n"
   ]
  },
  {
   "cell_type": "code",
   "execution_count": 9,
   "metadata": {},
   "outputs": [],
   "source": [
    "## We use this (if just pressure is given) to find temperature\n",
    "if key1 == \"y\" and key2 == \"n\":\n",
    "    score = []\n",
    "    score_max = -1\n",
    "    np.set_printoptions(formatter={'float_kind':'{:f}'.format})\n",
    "\n",
    "    for i in range(10):   \n",
    "        poly_reg = PolynomialFeatures(degree = i)\n",
    "        x_poly = poly_reg.fit_transform(x)\n",
    "        Regressor_p = LinearRegression()\n",
    "        Regressor_p.fit(x_poly, x_p)\n",
    "        y_pred = Regressor_p.predict(x_poly).reshape(len(Regressor_p.predict(x_poly)), 1)\n",
    "        if (r2_score(y_pred, x_p) > score_max):                # In this Line we compare for degree = 1 to 10 and then check the \n",
    "            score_max = r2_score(y_pred, x_p)                  # accuracy. we then store the y_max in the case where the accuracy is \n",
    "            y_max = y_pred                                       # maximum. (Same for all the below case)\n",
    "        score.append(r2_score(y_pred, x_p)) \n",
    "    print(np.array(score).reshape(len(np.array(score)),1))\n",
    "    print(\" \")\n",
    "    print(score_max)\n",
    "\n",
    "    print(Regressor_p.predict(poly_reg.fit_transform([[]])))\n",
    "    plt.scatter(x, y_max, color = 'red' )\n",
    "    plt.plot(x, x_p, color = 'blue' )\n",
    "\n",
    "# P.S:- ignore this cell for now working in it"
   ]
  },
  {
   "cell_type": "code",
   "execution_count": 10,
   "metadata": {
    "id": "uDzuz1_LAtyz",
    "outputId": "039c243c-f04b-4a97-9fe0-7c7070626fc5"
   },
   "outputs": [
    {
     "name": "stdout",
     "output_type": "stream",
     "text": [
      "[[0.        ]\n",
      " [0.86276788]\n",
      " [0.96495501]\n",
      " [0.98535345]\n",
      " [0.99147409]\n",
      " [0.9945182 ]\n",
      " [0.99626299]\n",
      " [0.99702063]\n",
      " [0.99697464]\n",
      " [0.99600076]]\n",
      " \n",
      "0.9970206284360734\n"
     ]
    },
    {
     "data": {
      "image/png": "[encoded data removed]",
      "text/plain": [
       "<Figure size 432x288 with 1 Axes>"
      ]
     },
     "metadata": {
      "needs_background": "light"
     },
     "output_type": "display_data"
    },
    {
     "name": "stdout",
     "output_type": "stream",
     "text": [
      " \n",
      "[[2049.54792785]]\n"
     ]
    }
   ],
   "source": [
    "# For Hfg\n",
    "for i in range(10):   \n",
    "    poly_reg = PolynomialFeatures(degree = i)\n",
    "    x_poly = poly_reg.fit_transform(x)\n",
    "    Regressor_Hfg = LinearRegression()\n",
    "    Regressor_Hfg.fit(x_poly, y_Hfg)\n",
    "    y_pred = Regressor_Hfg.predict(x_poly).reshape(len(Regressor_Hfg.predict(x_poly)), 1)\n",
    "    if (r2_score(y_pred, y_Hfg) > score_max):                # In this Line we compare for degree = 1 to 10 and then check the \n",
    "        score_max = r2_score(y_pred, y_Hfg)                  # accuracy. we then store the y_max in the case where the accuracy is \n",
    "        y_max = y_pred                                       # maximum. (Same for all the below case)\n",
    "    score.append(r2_score(y_pred, y_Hfg)) \n",
    "print(np.array(score).reshape(len(np.array(score)),1))\n",
    "print(\" \")\n",
    "print(score_max)\n",
    "\n",
    "acc.append(score_max)\n",
    "\n",
    "plt.scatter(x, y_Hfg, color = 'red')\n",
    "plt.plot(x, y_max, color = 'blue')\n",
    "plt.title('Hfg Prediction')\n",
    "plt.xlabel('Temperature')\n",
    "plt.ylabel('Hfg value')\n",
    "plt.show()\n",
    "\n",
    "print(\" \")\n",
    "print(Regressor_Hfg.predict(poly_reg.fit_transform([[temperature]])))\n",
    "value.append(Regressor_Hfg.predict(poly_reg.fit_transform([[temperature]])))\n",
    "name.append(\"Hfg\")"
   ]
  },
  {
   "cell_type": "code",
   "execution_count": 11,
   "metadata": {
    "id": "Xp0d48nPAty0",
    "outputId": "87efaf13-2c56-4e31-e396-93181a9cc7f6"
   },
   "outputs": [
    {
     "name": "stdout",
     "output_type": "stream",
     "text": [
      "[[-21775823332478305386496528482304.000000]\n",
      " [0.984960]\n",
      " [0.994476]\n",
      " [0.997394]\n",
      " [0.998423]\n",
      " [0.998949]\n",
      " [0.999263]\n",
      " [0.999217]\n",
      " [0.995287]\n",
      " [0.989785]]\n",
      " \n",
      "0.9992625392153833\n"
     ]
    },
    {
     "data": {
      "image/png": "[encoded data removed]",
      "text/plain": [
       "<Figure size 432x288 with 1 Axes>"
      ]
     },
     "metadata": {
      "needs_background": "light"
     },
     "output_type": "display_data"
    },
    {
     "name": "stdout",
     "output_type": "stream",
     "text": [
      " \n",
      "[[720.092141]]\n"
     ]
    }
   ],
   "source": [
    "# For Hf\n",
    "score = []\n",
    "score_max_Hf = -1\n",
    "for i in range(10):   \n",
    "    poly_reg = PolynomialFeatures(degree = i)\n",
    "    x_poly = poly_reg.fit_transform(x)\n",
    "    Regressor_Hf = LinearRegression()\n",
    "    Regressor_Hf.fit(x_poly, y_Hf)\n",
    "    y_pred = Regressor_Hf.predict(x_poly).reshape(len(Regressor_Hf.predict(x_poly)), 1)\n",
    "    if (r2_score(y_pred, y_Hf) > score_max_Hf):\n",
    "        score_max_Hf = r2_score(y_pred, y_Hf)\n",
    "        y_max_Hf = y_pred\n",
    "    score.append(r2_score(y_pred, y_Hf))\n",
    "\n",
    "array = np.array(score).reshape(len(np.array(score)),1)\n",
    "np.set_printoptions(formatter={'float_kind':'{:f}'.format})\n",
    "print(array)\n",
    "print(\" \")\n",
    "print(score_max_Hf)\n",
    "\n",
    "acc.append(score_max_Hf)\n",
    "\n",
    "plt.scatter(x, y_Hf, color = 'red')\n",
    "plt.plot(x, y_max_Hf, color = 'blue')\n",
    "plt.title('Hf Prediction')\n",
    "plt.xlabel('Temperature')\n",
    "plt.ylabel('Hf value')\n",
    "plt.show()\n",
    "\n",
    "print(\" \")\n",
    "\n",
    "print(Regressor_Hf.predict(poly_reg.fit_transform([[temperature]])))\n",
    "value.append(Regressor_Hf.predict(poly_reg.fit_transform([[temperature]]))) \n",
    "name.append(\"Hf\")"
   ]
  },
  {
   "cell_type": "code",
   "execution_count": 12,
   "metadata": {
    "id": "X3UdMqm-Aty0",
    "outputId": "1535d4f9-4694-4f12-cb13-d54b369f5d0b"
   },
   "outputs": [
    {
     "name": "stdout",
     "output_type": "stream",
     "text": [
      "[[-84823217491766848644678942720.000000]\n",
      " [-1207.087781]\n",
      " [0.684851]\n",
      " [0.894369]\n",
      " [0.942130]\n",
      " [0.964300]\n",
      " [0.976177]\n",
      " [0.983365]\n",
      " [0.960946]\n",
      " [0.943860]]\n",
      " \n",
      "0.9833651658843198\n"
     ]
    },
    {
     "data": {
      "image/png": "[encoded data removed]",
      "text/plain": [
       "<Figure size 432x288 with 1 Axes>"
      ]
     },
     "metadata": {
      "needs_background": "light"
     },
     "output_type": "display_data"
    },
    {
     "name": "stdout",
     "output_type": "stream",
     "text": [
      " \n",
      "[[2769.647601]]\n"
     ]
    }
   ],
   "source": [
    "# For Hg \n",
    "score = []\n",
    "score_max_Hg = -1\n",
    "for i in range(10):   \n",
    "    poly_reg = PolynomialFeatures(degree = i)\n",
    "    x_poly = poly_reg.fit_transform(x)\n",
    "    Regressor_Hg = LinearRegression()\n",
    "    Regressor_Hg.fit(x_poly, y_Hg)\n",
    "    y_pred = Regressor_Hg.predict(x_poly).reshape(len(Regressor_Hg.predict(x_poly)), 1)\n",
    "    if (r2_score(y_pred, y_Hg) > score_max_Hg):\n",
    "        score_max_Hg = r2_score(y_pred, y_Hg)\n",
    "        y_max_Hg = y_pred\n",
    "    score.append(r2_score(y_pred, y_Hg))\n",
    "\n",
    "array = np.array(score).reshape(len(np.array(score)),1)\n",
    "np.set_printoptions(formatter={'float_kind':'{:f}'.format})\n",
    "print(array)\n",
    "print(\" \")\n",
    "print(score_max_Hg)\n",
    "\n",
    "acc.append(score_max_Hg)\n",
    "\n",
    "plt.scatter(x, y_Hg, color = 'red')\n",
    "plt.plot(x, y_max_Hg, color = 'blue')\n",
    "plt.title('Hg Prediction')\n",
    "plt.xlabel('Temperature')\n",
    "plt.ylabel('Hg value')\n",
    "plt.show()\n",
    "\n",
    "print(\" \")\n",
    "\n",
    "print(Regressor_Hg.predict(poly_reg.fit_transform([[temperature]])))\n",
    "value.append(Regressor_Hg.predict(poly_reg.fit_transform([[temperature]])))\n",
    "name.append(\"Hg\")"
   ]
  },
  {
   "cell_type": "code",
   "execution_count": 13,
   "metadata": {
    "id": "xA5KmCTnAty1",
    "outputId": "b30f23d7-f936-4244-decb-626dc674ce8e"
   },
   "outputs": [
    {
     "name": "stdout",
     "output_type": "stream",
     "text": [
      "[0.0, 0.985068228386481, 0.990685465256395, 0.9982379051491638, 0.9986484312895607, 0.9991795482774816, 0.9994265725859527, 0.998714571622601, 0.9816063814586213, 0.9642747056309054]\n",
      " \n",
      "0.9994265725859527\n"
     ]
    },
    {
     "data": {
      "image/png": "[encoded data removed]",
      "text/plain": [
       "<Figure size 432x288 with 1 Axes>"
      ]
     },
     "metadata": {
      "needs_background": "light"
     },
     "output_type": "display_data"
    },
    {
     "name": "stdout",
     "output_type": "stream",
     "text": [
      "[[4.534436]]\n"
     ]
    }
   ],
   "source": [
    "# For Sfg\n",
    "score_max = 0\n",
    "score = []\n",
    "for i in range(10):  \n",
    "    poly_reg = PolynomialFeatures(degree = i)\n",
    "    x_poly = poly_reg.fit_transform(x)\n",
    "    Regressor_Sfg = LinearRegression()\n",
    "    Regressor_Sfg.fit(x_poly, y_Sfg)\n",
    "    y_pred = Regressor_Sfg.predict(x_poly).reshape(len(Regressor_Sfg.predict(x_poly)), 1)\n",
    "    if (r2_score(y_pred, y_Sfg) > score_max):\n",
    "        score_max = r2_score(y_pred, y_Sfg)\n",
    "        y_max = y_pred\n",
    "    score.append(r2_score(y_pred, y_Sfg))\n",
    "\n",
    "\n",
    "print(score)\n",
    "print(\" \")\n",
    "print(score_max)\n",
    "\n",
    "acc.append(score_max)\n",
    "\n",
    "plt.plot(x, y_max, color = 'red')\n",
    "plt.scatter(x, y_Sfg, color = 'blue')\n",
    "plt.title('Sfg Prediction')\n",
    "plt.xlabel('Temperature')\n",
    "plt.ylabel('Sfg value')\n",
    "plt.show()\n",
    "\n",
    "print(Regressor_Sfg.predict(poly_reg.fit_transform([[temperature]])))\n",
    "value.append(Regressor_Sfg.predict(poly_reg.fit_transform([[temperature]]))) \n",
    "name.append(\"Sfg\")"
   ]
  },
  {
   "cell_type": "code",
   "execution_count": 14,
   "metadata": {
    "id": "6b1S2KKQAty1",
    "outputId": "85521220-6766-4de5-a850-b04a20195cae"
   },
   "outputs": [
    {
     "name": "stdout",
     "output_type": "stream",
     "text": [
      "[0.0, 0.9680727713485469, 0.981878354937052, 0.9975239825748325, 0.997962126428897, 0.998835191947633, 0.9991944625501935, 0.9980059694104142, 0.9726078497525266, 0.9487823632632235]\n",
      " \n",
      "0.9991944625501935\n"
     ]
    },
    {
     "data": {
      "image/png": "[encoded data removed]",
      "text/plain": [
       "<Figure size 432x288 with 1 Axes>"
      ]
     },
     "metadata": {
      "needs_background": "light"
     },
     "output_type": "display_data"
    },
    {
     "name": "stdout",
     "output_type": "stream",
     "text": [
      "[[6.599838]]\n"
     ]
    }
   ],
   "source": [
    "# For Sg\n",
    "score_max = 0\n",
    "score = []\n",
    "for i in range(10):  \n",
    "    poly_reg = PolynomialFeatures(degree = i)\n",
    "    x_poly = poly_reg.fit_transform(x)\n",
    "    Regressor_Sg = LinearRegression()\n",
    "    Regressor_Sg.fit(x_poly, y_Sg)\n",
    "    y_pred = Regressor_Sg.predict(x_poly).reshape(len(Regressor_Sg.predict(x_poly)), 1)\n",
    "    if (r2_score(y_pred, y_Sg) > score_max):\n",
    "        score_max = r2_score(y_pred, y_Sg)\n",
    "        y_max = y_pred\n",
    "    score.append(r2_score(y_pred, y_Sg))\n",
    "\n",
    "\n",
    "print(score)\n",
    "print(\" \")\n",
    "print(score_max)\n",
    "\n",
    "acc.append(score_max)\n",
    "\n",
    "plt.plot(x, y_max, color = 'red')\n",
    "plt.scatter(x, y_Sg, color = 'blue')\n",
    "plt.title('Sg Prediction')\n",
    "plt.xlabel('Temperature')\n",
    "plt.ylabel('Sg value')\n",
    "plt.show()\n",
    "\n",
    "print(Regressor_Sg.predict(poly_reg.fit_transform([[temperature]])))\n",
    "value.append(Regressor_Sg.predict(poly_reg.fit_transform([[temperature]]))) \n",
    "name.append(\"Sg\")"
   ]
  },
  {
   "cell_type": "code",
   "execution_count": 15,
   "metadata": {
    "id": "W29Rj-gVAty2",
    "outputId": "7c6c627c-d255-4b56-b357-1872e1680696"
   },
   "outputs": [
    {
     "name": "stdout",
     "output_type": "stream",
     "text": [
      "[-1.6160240102760353e+30, 0.9950623506220823, 0.9962748166294518, 0.9987963688359748, 0.9991789606577589, 0.9994580720648135, 0.999612505056598, 0.999253078599403, 0.9885973920023546, 0.976494742551445]\n",
      " \n",
      "0.999612505056598\n"
     ]
    },
    {
     "data": {
      "image/png": "[encoded data removed]",
      "text/plain": [
       "<Figure size 432x288 with 1 Axes>"
      ]
     },
     "metadata": {
      "needs_background": "light"
     },
     "output_type": "display_data"
    },
    {
     "name": "stdout",
     "output_type": "stream",
     "text": [
      "[[2.065413]]\n"
     ]
    }
   ],
   "source": [
    "# For Sf\n",
    "score_max = 0\n",
    "score = []\n",
    "for i in range(10):  \n",
    "    poly_reg = PolynomialFeatures(degree = i)\n",
    "    x_poly = poly_reg.fit_transform(x)\n",
    "    Regressor_Sf = LinearRegression()\n",
    "    Regressor_Sf.fit(x_poly, y_Sf)\n",
    "    y_pred = Regressor_Sf.predict(x_poly).reshape(len(Regressor_Sf.predict(x_poly)), 1)\n",
    "    if (r2_score(y_pred, y_Sf) > score_max):\n",
    "        score_max = r2_score(y_pred, y_Sf)\n",
    "        y_max = y_pred\n",
    "    score.append(r2_score(y_pred, y_Sf))\n",
    "\n",
    "\n",
    "print(score)\n",
    "print(\" \")\n",
    "print(score_max)\n",
    "\n",
    "acc.append(score_max)\n",
    "\n",
    "plt.plot(x, y_max, color = 'red')\n",
    "plt.scatter(x, y_Sf, color = 'blue')\n",
    "plt.title('Sf Prediction')\n",
    "plt.xlabel('Temperature')\n",
    "plt.ylabel('Sf value')\n",
    "plt.show()\n",
    "\n",
    "print(Regressor_Sf.predict(poly_reg.fit_transform([[temperature]])))\n",
    "value.append( Regressor_Sf.predict(poly_reg.fit_transform([[temperature]])))\n",
    "name.append(\"Sf\")"
   ]
  },
  {
   "cell_type": "code",
   "execution_count": 16,
   "metadata": {
    "id": "iwbaVrPuAty2",
    "outputId": "e6eff0fb-fce5-4700-8f3b-8bf9fe44bf4f"
   },
   "outputs": [
    {
     "name": "stdout",
     "output_type": "stream",
     "text": [
      "[[2769.647601]]\n",
      "name         values\n",
      "Hfg\t[[2049.547928]]\n",
      "Hf\t[[720.092141]]\n",
      "Hg\t[[2769.647601]]\n",
      "Sfg\t[[4.534436]]\n",
      "Sg\t[[6.599838]]\n",
      "Sf\t[[2.065413]]\n",
      " \n",
      "The total accuracy of the model is 0.9963136456214201\n"
     ]
    }
   ],
   "source": [
    "# Printing the final values\n",
    "\n",
    "print(\"name         values\")\n",
    "for i in range(len(value)):\n",
    "    print( name[i] +'\\t'+str(value[i]))\n",
    "acc = np.array(acc)\n",
    "print(\" \")\n",
    "print(\"The total accuracy of the model is \" + str(np.mean(acc)))"
   ]
  },
  {
   "cell_type": "code",
   "execution_count": null,
   "metadata": {
    "id": "yNdNg5uYAty2"
   },
   "outputs": [],
   "source": []
  },
  {
   "cell_type": "code",
   "execution_count": null,
   "metadata": {},
   "outputs": [],
   "source": []
  }
 ],
 "metadata": {
  "colab": {
   "name": "Mollier Finder version1.ipynb",
   "provenance": []
  },
  "kernelspec": {
   "display_name": "Python 3",
   "language": "python",
   "name": "python3"
  },
  "language_info": {
   "codemirror_mode": {
    "name": "ipython",
    "version": 3
   },
   "file_extension": ".py",
   "mimetype": "text/x-python",
   "name": "python",
   "nbconvert_exporter": "python",
   "pygments_lexer": "ipython3",
   "version": "3.8.5"
  }
 },
 "nbformat": 4,
 "nbformat_minor": 1
}
